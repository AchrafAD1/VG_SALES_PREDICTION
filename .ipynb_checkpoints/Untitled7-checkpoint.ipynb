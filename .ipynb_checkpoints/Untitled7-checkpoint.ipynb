{
 "cells": [
  {
   "cell_type": "code",
   "execution_count": 3,
   "id": "c869b968-8c49-4317-82a6-d47072cb7e5b",
   "metadata": {},
   "outputs": [],
   "source": [
    "import pandas as pd\n",
    "import numpy as np\n",
    "from sklearn.model_selection import train_test_split\n",
    "from sklearn.linear_model import LinearRegression\n",
    "from sklearn.metrics import mean_squared_error, r2_score\n",
    "import matplotlib.pyplot as plt\n",
    "\n"
   ]
  },
  {
   "cell_type": "code",
   "execution_count": 57,
   "id": "1d5e4004",
   "metadata": {},
   "outputs": [
    {
     "name": "stdout",
     "output_type": "stream",
     "text": [
      "        Rank                                              Name  Year  A_Sales  \\\n",
      "0          1                                        Wii Sports  2016    41.49   \n",
      "1          2                                 Super Mario Bros.  2016    29.08   \n",
      "2          3                                    Mario Kart Wii  2017    15.85   \n",
      "3          4                                 Wii Sports Resort  2019    15.75   \n",
      "4          5                          Pokemon Red/Pokemon Blue  2023    11.27   \n",
      "...      ...                                               ...   ...      ...   \n",
      "16593  16596                Woody Woodpecker in Crazy Castle 5  2017     0.01   \n",
      "16594  16597                     Men in Black II: Alien Escape  2018     0.01   \n",
      "16595  16598  SCORE International Baja 1000: The Official Game  2019     0.00   \n",
      "16596  16599                                        Know How 2  2016     0.00   \n",
      "16597  16600                                  Spirits & Spells  2017     0.01   \n",
      "\n",
      "       EU_Sales  JP_Sales  Other_Sales  Global_Sales  Platform_2600  \\\n",
      "0         29.02      3.77         8.46         82.74          False   \n",
      "1          3.58      6.81         0.77         40.24          False   \n",
      "2         12.88      3.79         3.31         35.82          False   \n",
      "3         11.01      3.28         2.96         33.00          False   \n",
      "4          8.89     10.22         1.00         31.37          False   \n",
      "...         ...       ...          ...           ...            ...   \n",
      "16593      0.00      0.00         0.00          0.01          False   \n",
      "16594      0.00      0.00         0.00          0.01          False   \n",
      "16595      0.00      0.00         0.00          0.01          False   \n",
      "16596      0.01      0.00         0.00          0.01          False   \n",
      "16597      0.00      0.00         0.00          0.01          False   \n",
      "\n",
      "       Platform_3DO  ...  Publisher_bitComposer Games  \\\n",
      "0             False  ...                        False   \n",
      "1             False  ...                        False   \n",
      "2             False  ...                        False   \n",
      "3             False  ...                        False   \n",
      "4             False  ...                        False   \n",
      "...             ...  ...                          ...   \n",
      "16593         False  ...                        False   \n",
      "16594         False  ...                        False   \n",
      "16595         False  ...                        False   \n",
      "16596         False  ...                        False   \n",
      "16597         False  ...                        False   \n",
      "\n",
      "       Publisher_dramatic create  Publisher_fonfun  Publisher_iWin  \\\n",
      "0                          False             False           False   \n",
      "1                          False             False           False   \n",
      "2                          False             False           False   \n",
      "3                          False             False           False   \n",
      "4                          False             False           False   \n",
      "...                          ...               ...             ...   \n",
      "16593                      False             False           False   \n",
      "16594                      False             False           False   \n",
      "16595                      False             False           False   \n",
      "16596                      False             False           False   \n",
      "16597                      False             False           False   \n",
      "\n",
      "       Publisher_id Software  Publisher_imageepoch Inc.  \\\n",
      "0                      False                      False   \n",
      "1                      False                      False   \n",
      "2                      False                      False   \n",
      "3                      False                      False   \n",
      "4                      False                      False   \n",
      "...                      ...                        ...   \n",
      "16593                  False                      False   \n",
      "16594                  False                      False   \n",
      "16595                  False                      False   \n",
      "16596                  False                      False   \n",
      "16597                  False                      False   \n",
      "\n",
      "       Publisher_inXile Entertainment  Publisher_mixi, Inc  \\\n",
      "0                               False                False   \n",
      "1                               False                False   \n",
      "2                               False                False   \n",
      "3                               False                False   \n",
      "4                               False                False   \n",
      "...                               ...                  ...   \n",
      "16593                           False                False   \n",
      "16594                           False                False   \n",
      "16595                           False                False   \n",
      "16596                           False                False   \n",
      "16597                           False                False   \n",
      "\n",
      "       Publisher_responDESIGN  EU_TotalSalesPrev9Years  \n",
      "0                       False                  2434.13  \n",
      "1                       False                  2434.13  \n",
      "2                       False                  2434.13  \n",
      "3                       False                  2434.13  \n",
      "4                       False                  2434.13  \n",
      "...                       ...                      ...  \n",
      "16593                   False                  2434.13  \n",
      "16594                   False                  2434.13  \n",
      "16595                   False                  2434.13  \n",
      "16596                   False                  2434.13  \n",
      "16597                   False                  2434.13  \n",
      "\n",
      "[16598 rows x 630 columns]\n"
     ]
    }
   ],
   "source": [
    "# Load your dataset into a DataFrame\n",
    "df = pd.read_csv('vgsales.csv')\n",
    "\n",
    "\n",
    "\n",
    "# Encode categorical variables using one-hot encoding\n",
    "df = pd.get_dummies(df, columns=['Platform', 'Genre', 'Publisher'])\n",
    "\n",
    "\n",
    "prev_years = list(range(min_year,max_year+1))\n",
    "\n",
    "# Create a feature for total sales for the previous nine years\n",
    "df['EU_TotalSalesPrev9Years'] = df[df['Year'].isin(prev_years)]['EU_Sales'].sum()\n",
    "print(df)\n"
   ]
  },
  {
   "cell_type": "code",
   "execution_count": null,
   "id": "9ae2d815",
   "metadata": {},
   "outputs": [],
   "source": [
    "X = df[['Platform', 'Year', 'Genre', 'Publisher', 'TotalSalesPrev5Years']]\n",
    "y = df['Global_Sales']\n"
   ]
  },
  {
   "cell_type": "code",
   "execution_count": null,
   "id": "cb22b981",
   "metadata": {},
   "outputs": [],
   "source": [
    "X_train, X_test, y_train, y_test = train_test_split(X, y, test_size=0.2, random_state=42)\n"
   ]
  },
  {
   "cell_type": "code",
   "execution_count": null,
   "id": "758991b6",
   "metadata": {},
   "outputs": [],
   "source": [
    "model = LinearRegression()\n",
    "model.fit(X_train, y_train)\n"
   ]
  },
  {
   "cell_type": "code",
   "execution_count": null,
   "id": "745a3719",
   "metadata": {},
   "outputs": [],
   "source": [
    "y_pred = model.predict(X_test)\n"
   ]
  },
  {
   "cell_type": "code",
   "execution_count": null,
   "id": "44c6d8ed",
   "metadata": {},
   "outputs": [],
   "source": [
    "mse = mean_squared_error(y_test, y_pred)\n",
    "r2 = r2_score(y_test, y_pred)\n",
    "print(f\"Mean Squared Error: {mse}\")\n",
    "print(f\"R-squared: {r2}\")\n"
   ]
  },
  {
   "cell_type": "code",
   "execution_count": null,
   "id": "ecce5b81",
   "metadata": {},
   "outputs": [],
   "source": [
    "plt.scatter(y_test, y_pred)\n",
    "plt.xlabel(\"Actual Sales\")\n",
    "plt.ylabel(\"Predicted Sales\")\n",
    "plt.title(\"Actual vs. Predicted Sales\")\n",
    "plt.show()\n"
   ]
  },
  {
   "cell_type": "code",
   "execution_count": null,
   "id": "481ae2f5",
   "metadata": {},
   "outputs": [],
   "source": []
  }
 ],
 "metadata": {
  "kernelspec": {
   "display_name": "Python 3 (ipykernel)",
   "language": "python",
   "name": "python3"
  },
  "language_info": {
   "codemirror_mode": {
    "name": "ipython",
    "version": 3
   },
   "file_extension": ".py",
   "mimetype": "text/x-python",
   "name": "python",
   "nbconvert_exporter": "python",
   "pygments_lexer": "ipython3",
   "version": "3.10.5"
  }
 },
 "nbformat": 4,
 "nbformat_minor": 5
}
