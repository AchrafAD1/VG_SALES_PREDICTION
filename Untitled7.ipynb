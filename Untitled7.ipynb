{
 "cells": [
  {
   "cell_type": "code",
   "execution_count": 3,
   "id": "c869b968-8c49-4317-82a6-d47072cb7e5b",
   "metadata": {},
   "outputs": [],
   "source": [
    "import pandas as pd\n",
    "import numpy as np\n",
    "from sklearn.model_selection import train_test_split\n",
    "from sklearn.linear_model import LinearRegression\n",
    "from sklearn.metrics import mean_squared_error, r2_score\n",
    "import matplotlib.pyplot as plt\n",
    "\n"
   ]
  },
  {
   "cell_type": "code",
   "execution_count": null,
   "id": "1d5e4004",
   "metadata": {},
   "outputs": [
    {
     "name": "stdout",
     "output_type": "stream",
     "text": [
      "2015\n"
     ]
    },
    {
     "name": "stdin",
     "output_type": "stream",
     "text": [
      "min_year :  2014\n",
      "max_year :  2014\n"
     ]
    },
    {
     "name": "stdout",
     "output_type": "stream",
     "text": [
      "\n",
      "________________________________2014 - 2014 : 0.0 ________________________________\n",
      "\n"
     ]
    },
    {
     "name": "stdin",
     "output_type": "stream",
     "text": [
      "min_year :  2015\n",
      "max_year :  2016\n"
     ]
    },
    {
     "name": "stdout",
     "output_type": "stream",
     "text": [
      "\n",
      "________________________________2015 - 2016 : 582.4200000000001 ________________________________\n",
      "\n"
     ]
    },
    {
     "name": "stdin",
     "output_type": "stream",
     "text": [
      "min_year :  2014\n",
      "max_year :  2015\n"
     ]
    },
    {
     "name": "stdout",
     "output_type": "stream",
     "text": [
      "\n",
      "________________________________2014 - 2015 : 260.75 ________________________________\n",
      "\n"
     ]
    },
    {
     "name": "stdin",
     "output_type": "stream",
     "text": [
      "min_year :  2015\n",
      "max_year :  2023\n"
     ]
    },
    {
     "name": "stdout",
     "output_type": "stream",
     "text": [
      "\n",
      "________________________________2015 - 2023 : 2434.1299999999997 ________________________________\n",
      "\n"
     ]
    },
    {
     "name": "stdin",
     "output_type": "stream",
     "text": [
      "min_year :  2014\n",
      "max_year :  2023\n"
     ]
    },
    {
     "name": "stdout",
     "output_type": "stream",
     "text": [
      "\n",
      "________________________________2014 - 2023 : 2434.1299999999997 ________________________________\n",
      "\n"
     ]
    },
    {
     "name": "stdin",
     "output_type": "stream",
     "text": [
      "min_year :  1\n",
      "max_year :  2023\n"
     ]
    },
    {
     "name": "stdout",
     "output_type": "stream",
     "text": [
      "\n",
      "________________________________1 - 2023 : 2434.1299999999997 ________________________________\n",
      "\n"
     ]
    },
    {
     "name": "stdin",
     "output_type": "stream",
     "text": [
      "min_year :  1\n",
      "max_year :  3000\n"
     ]
    },
    {
     "name": "stdout",
     "output_type": "stream",
     "text": [
      "\n",
      "________________________________1 - 3000 : 2434.1299999999997 ________________________________\n",
      "\n"
     ]
    }
   ],
   "source": [
    "# Load your dataset into a DataFrame\n",
    "df = pd.read_csv('vgsales.csv')\n",
    "\n",
    "\n",
    "\n",
    "# Encode categorical variables using one-hot encoding\n",
    "df = pd.get_dummies(df, columns=['Platform', 'Genre', 'Publisher'])\n",
    "print (df[\"Year\"].min())\n",
    "while True:\n",
    "    \n",
    "    min_year = int(input('min_year : '))\n",
    "    if min_year == 0 : break\n",
    "    max_year = int(input('max_year : '))\n",
    "    print()\n",
    "    print(f'________________________________{min_year} - {max_year} :',df[df['Year'].isin(list(range(min_year,max_year+1)))]['EU_Sales'].sum(),'________________________________')\n",
    "    print()\n",
    "# print('2021 :',df[df['Year'].isin([2021,2023])]['EU_Sales'].sum())\n",
    "# print('2020 :',df[df['Year'].isin([2020,2023])]['EU_Sales'].sum())\n",
    "# print('2019 :',df[df['Year'].isin([2019,2023])]['EU_Sales'].sum())\n",
    "# print('2018 :',df[df['Year'].isin([2018,2023])]['EU_Sales'].sum())\n",
    "# print('2017 :',df[df['Year'].isin([2017,2023])]['EU_Sales'].sum())\n",
    "# print('2016 :',df[df['Year'].isin([2016,2023])]['EU_Sales'].sum())\n",
    "# print('2015 :',df[df['Year'].isin([2015,2023])]['EU_Sales'].sum())\n",
    "# print('2014 :',df[df['Year'].isin([2014,2023])]['EU_Sales'].sum())\n",
    "\n",
    "# # Create a feature for total sales for the previous five years\n",
    "# df['TotalSalesPrev5Years'] = df[['Sales2016', 'Sales2017', 'Sales2018', 'Sales2019', 'Sales2020']].sum(axis=1)\n"
   ]
  },
  {
   "cell_type": "code",
   "execution_count": null,
   "id": "9ae2d815",
   "metadata": {},
   "outputs": [],
   "source": [
    "X = df[['Platform', 'Year', 'Genre', 'Publisher', 'TotalSalesPrev5Years']]\n",
    "y = df['Global_Sales']\n"
   ]
  },
  {
   "cell_type": "code",
   "execution_count": null,
   "id": "cb22b981",
   "metadata": {},
   "outputs": [],
   "source": [
    "X_train, X_test, y_train, y_test = train_test_split(X, y, test_size=0.2, random_state=42)\n"
   ]
  },
  {
   "cell_type": "code",
   "execution_count": null,
   "id": "758991b6",
   "metadata": {},
   "outputs": [],
   "source": [
    "model = LinearRegression()\n",
    "model.fit(X_train, y_train)\n"
   ]
  },
  {
   "cell_type": "code",
   "execution_count": null,
   "id": "745a3719",
   "metadata": {},
   "outputs": [],
   "source": [
    "y_pred = model.predict(X_test)\n"
   ]
  },
  {
   "cell_type": "code",
   "execution_count": null,
   "id": "44c6d8ed",
   "metadata": {},
   "outputs": [],
   "source": [
    "mse = mean_squared_error(y_test, y_pred)\n",
    "r2 = r2_score(y_test, y_pred)\n",
    "print(f\"Mean Squared Error: {mse}\")\n",
    "print(f\"R-squared: {r2}\")\n"
   ]
  },
  {
   "cell_type": "code",
   "execution_count": null,
   "id": "ecce5b81",
   "metadata": {},
   "outputs": [],
   "source": [
    "plt.scatter(y_test, y_pred)\n",
    "plt.xlabel(\"Actual Sales\")\n",
    "plt.ylabel(\"Predicted Sales\")\n",
    "plt.title(\"Actual vs. Predicted Sales\")\n",
    "plt.show()\n"
   ]
  },
  {
   "cell_type": "code",
   "execution_count": null,
   "id": "481ae2f5",
   "metadata": {},
   "outputs": [],
   "source": []
  }
 ],
 "metadata": {
  "kernelspec": {
   "display_name": "Python 3 (ipykernel)",
   "language": "python",
   "name": "python3"
  },
  "language_info": {
   "codemirror_mode": {
    "name": "ipython",
    "version": 3
   },
   "file_extension": ".py",
   "mimetype": "text/x-python",
   "name": "python",
   "nbconvert_exporter": "python",
   "pygments_lexer": "ipython3",
   "version": "3.10.5"
  }
 },
 "nbformat": 4,
 "nbformat_minor": 5
}
