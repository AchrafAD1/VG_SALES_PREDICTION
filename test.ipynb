{
 "cells": [
  {
   "cell_type": "code",
   "execution_count": 84,
   "metadata": {},
   "outputs": [],
   "source": [
    "import pandas as pd\n",
    "from sklearn.model_selection import train_test_split\n",
    "from sklearn.linear_model import LinearRegression\n",
    "from sklearn.preprocessing import LabelEncoder, OneHotEncoder\n",
    "from sklearn.metrics import mean_squared_error, r2_score"
   ]
  },
  {
   "cell_type": "code",
   "execution_count": 85,
   "metadata": {},
   "outputs": [],
   "source": [
    "# Load the dataset\n",
    "data = pd.read_csv('vgsales_MA.csv')\n",
    "\n",
    "# Select relevant columns\n",
    "data = data[['Platform', 'Genre', 'Publisher', 'MA_Sales']]\n"
   ]
  },
  {
   "cell_type": "code",
   "execution_count": 86,
   "metadata": {},
   "outputs": [
    {
     "name": "stdout",
     "output_type": "stream",
     "text": [
      "       MA_Sales  Platform_2600  Platform_3DO  Platform_3DS  Platform_DC  \\\n",
      "0         29.02          False         False         False        False   \n",
      "1          3.58          False         False         False        False   \n",
      "2         12.88          False         False         False        False   \n",
      "3         11.01          False         False         False        False   \n",
      "4          8.89          False         False         False        False   \n",
      "...         ...            ...           ...           ...          ...   \n",
      "16593      0.00          False         False         False        False   \n",
      "16594      0.00          False         False         False        False   \n",
      "16595      0.00          False         False         False        False   \n",
      "16596      0.01          False         False         False        False   \n",
      "16597      0.00          False         False         False        False   \n",
      "\n",
      "       Platform_DS  Platform_GB  Platform_GBA  Platform_GC  Platform_GEN  ...  \\\n",
      "0            False        False         False        False         False  ...   \n",
      "1            False        False         False        False         False  ...   \n",
      "2            False        False         False        False         False  ...   \n",
      "3            False        False         False        False         False  ...   \n",
      "4            False         True         False        False         False  ...   \n",
      "...            ...          ...           ...          ...           ...  ...   \n",
      "16593        False        False          True        False         False  ...   \n",
      "16594        False        False         False         True         False  ...   \n",
      "16595        False        False         False        False         False  ...   \n",
      "16596         True        False         False        False         False  ...   \n",
      "16597        False        False          True        False         False  ...   \n",
      "\n",
      "       Publisher_Zushi Games  Publisher_bitComposer Games  \\\n",
      "0                      False                        False   \n",
      "1                      False                        False   \n",
      "2                      False                        False   \n",
      "3                      False                        False   \n",
      "4                      False                        False   \n",
      "...                      ...                          ...   \n",
      "16593                  False                        False   \n",
      "16594                  False                        False   \n",
      "16595                  False                        False   \n",
      "16596                  False                        False   \n",
      "16597                  False                        False   \n",
      "\n",
      "       Publisher_dramatic create  Publisher_fonfun  Publisher_iWin  \\\n",
      "0                          False             False           False   \n",
      "1                          False             False           False   \n",
      "2                          False             False           False   \n",
      "3                          False             False           False   \n",
      "4                          False             False           False   \n",
      "...                          ...               ...             ...   \n",
      "16593                      False             False           False   \n",
      "16594                      False             False           False   \n",
      "16595                      False             False           False   \n",
      "16596                      False             False           False   \n",
      "16597                      False             False           False   \n",
      "\n",
      "       Publisher_id Software  Publisher_imageepoch Inc.  \\\n",
      "0                      False                      False   \n",
      "1                      False                      False   \n",
      "2                      False                      False   \n",
      "3                      False                      False   \n",
      "4                      False                      False   \n",
      "...                      ...                        ...   \n",
      "16593                  False                      False   \n",
      "16594                  False                      False   \n",
      "16595                  False                      False   \n",
      "16596                  False                      False   \n",
      "16597                  False                      False   \n",
      "\n",
      "       Publisher_inXile Entertainment  Publisher_mixi, Inc  \\\n",
      "0                               False                False   \n",
      "1                               False                False   \n",
      "2                               False                False   \n",
      "3                               False                False   \n",
      "4                               False                False   \n",
      "...                               ...                  ...   \n",
      "16593                           False                False   \n",
      "16594                           False                False   \n",
      "16595                           False                False   \n",
      "16596                           False                False   \n",
      "16597                           False                False   \n",
      "\n",
      "       Publisher_responDESIGN  \n",
      "0                       False  \n",
      "1                       False  \n",
      "2                       False  \n",
      "3                       False  \n",
      "4                       False  \n",
      "...                       ...  \n",
      "16593                   False  \n",
      "16594                   False  \n",
      "16595                   False  \n",
      "16596                   False  \n",
      "16597                   False  \n",
      "\n",
      "[16598 rows x 622 columns]\n"
     ]
    }
   ],
   "source": [
    "# Encode categorical variables using one-hot encoding\n",
    "data = pd.get_dummies(data, columns=['Platform', 'Genre', 'Publisher'])\n",
    "print(data)"
   ]
  },
  {
   "cell_type": "code",
   "execution_count": 87,
   "metadata": {},
   "outputs": [],
   "source": [
    "# Define the feature matrix (X) and target variable (y)\n",
    "X = data.drop('MA_Sales', axis=1)\n",
    "\n",
    "y = data['MA_Sales']\n",
    "\n",
    "# Split the data into training and testing sets (e.g., 80% train, 20% test)\n",
    "X_train, X_test, y_train, y_test = train_test_split(X, y, test_size=0.2, random_state=42)"
   ]
  },
  {
   "cell_type": "code",
   "execution_count": 88,
   "metadata": {},
   "outputs": [
    {
     "data": {
      "text/html": [
       "<style>#sk-container-id-10 {color: black;}#sk-container-id-10 pre{padding: 0;}#sk-container-id-10 div.sk-toggleable {background-color: white;}#sk-container-id-10 label.sk-toggleable__label {cursor: pointer;display: block;width: 100%;margin-bottom: 0;padding: 0.3em;box-sizing: border-box;text-align: center;}#sk-container-id-10 label.sk-toggleable__label-arrow:before {content: \"▸\";float: left;margin-right: 0.25em;color: #696969;}#sk-container-id-10 label.sk-toggleable__label-arrow:hover:before {color: black;}#sk-container-id-10 div.sk-estimator:hover label.sk-toggleable__label-arrow:before {color: black;}#sk-container-id-10 div.sk-toggleable__content {max-height: 0;max-width: 0;overflow: hidden;text-align: left;background-color: #f0f8ff;}#sk-container-id-10 div.sk-toggleable__content pre {margin: 0.2em;color: black;border-radius: 0.25em;background-color: #f0f8ff;}#sk-container-id-10 input.sk-toggleable__control:checked~div.sk-toggleable__content {max-height: 200px;max-width: 100%;overflow: auto;}#sk-container-id-10 input.sk-toggleable__control:checked~label.sk-toggleable__label-arrow:before {content: \"▾\";}#sk-container-id-10 div.sk-estimator input.sk-toggleable__control:checked~label.sk-toggleable__label {background-color: #d4ebff;}#sk-container-id-10 div.sk-label input.sk-toggleable__control:checked~label.sk-toggleable__label {background-color: #d4ebff;}#sk-container-id-10 input.sk-hidden--visually {border: 0;clip: rect(1px 1px 1px 1px);clip: rect(1px, 1px, 1px, 1px);height: 1px;margin: -1px;overflow: hidden;padding: 0;position: absolute;width: 1px;}#sk-container-id-10 div.sk-estimator {font-family: monospace;background-color: #f0f8ff;border: 1px dotted black;border-radius: 0.25em;box-sizing: border-box;margin-bottom: 0.5em;}#sk-container-id-10 div.sk-estimator:hover {background-color: #d4ebff;}#sk-container-id-10 div.sk-parallel-item::after {content: \"\";width: 100%;border-bottom: 1px solid gray;flex-grow: 1;}#sk-container-id-10 div.sk-label:hover label.sk-toggleable__label {background-color: #d4ebff;}#sk-container-id-10 div.sk-serial::before {content: \"\";position: absolute;border-left: 1px solid gray;box-sizing: border-box;top: 0;bottom: 0;left: 50%;z-index: 0;}#sk-container-id-10 div.sk-serial {display: flex;flex-direction: column;align-items: center;background-color: white;padding-right: 0.2em;padding-left: 0.2em;position: relative;}#sk-container-id-10 div.sk-item {position: relative;z-index: 1;}#sk-container-id-10 div.sk-parallel {display: flex;align-items: stretch;justify-content: center;background-color: white;position: relative;}#sk-container-id-10 div.sk-item::before, #sk-container-id-10 div.sk-parallel-item::before {content: \"\";position: absolute;border-left: 1px solid gray;box-sizing: border-box;top: 0;bottom: 0;left: 50%;z-index: -1;}#sk-container-id-10 div.sk-parallel-item {display: flex;flex-direction: column;z-index: 1;position: relative;background-color: white;}#sk-container-id-10 div.sk-parallel-item:first-child::after {align-self: flex-end;width: 50%;}#sk-container-id-10 div.sk-parallel-item:last-child::after {align-self: flex-start;width: 50%;}#sk-container-id-10 div.sk-parallel-item:only-child::after {width: 0;}#sk-container-id-10 div.sk-dashed-wrapped {border: 1px dashed gray;margin: 0 0.4em 0.5em 0.4em;box-sizing: border-box;padding-bottom: 0.4em;background-color: white;}#sk-container-id-10 div.sk-label label {font-family: monospace;font-weight: bold;display: inline-block;line-height: 1.2em;}#sk-container-id-10 div.sk-label-container {text-align: center;}#sk-container-id-10 div.sk-container {/* jupyter's `normalize.less` sets `[hidden] { display: none; }` but bootstrap.min.css set `[hidden] { display: none !important; }` so we also need the `!important` here to be able to override the default hidden behavior on the sphinx rendered scikit-learn.org. See: https://github.com/scikit-learn/scikit-learn/issues/21755 */display: inline-block !important;position: relative;}#sk-container-id-10 div.sk-text-repr-fallback {display: none;}</style><div id=\"sk-container-id-10\" class=\"sk-top-container\"><div class=\"sk-text-repr-fallback\"><pre>LinearRegression()</pre><b>In a Jupyter environment, please rerun this cell to show the HTML representation or trust the notebook. <br />On GitHub, the HTML representation is unable to render, please try loading this page with nbviewer.org.</b></div><div class=\"sk-container\" hidden><div class=\"sk-item\"><div class=\"sk-estimator sk-toggleable\"><input class=\"sk-toggleable__control sk-hidden--visually\" id=\"sk-estimator-id-10\" type=\"checkbox\" checked><label for=\"sk-estimator-id-10\" class=\"sk-toggleable__label sk-toggleable__label-arrow\">LinearRegression</label><div class=\"sk-toggleable__content\"><pre>LinearRegression()</pre></div></div></div></div></div>"
      ],
      "text/plain": [
       "LinearRegression()"
      ]
     },
     "execution_count": 88,
     "metadata": {},
     "output_type": "execute_result"
    }
   ],
   "source": [
    "# Create a linear regression model\n",
    "model = LinearRegression()\n",
    "\n",
    "# Train the model on the training data\n",
    "model.fit(X_train, y_train)"
   ]
  },
  {
   "cell_type": "code",
   "execution_count": 89,
   "metadata": {},
   "outputs": [],
   "source": [
    "# Predict sales on the test data\n",
    "y_pred = model.predict(X_test)"
   ]
  },
  {
   "cell_type": "code",
   "execution_count": 90,
   "metadata": {},
   "outputs": [
    {
     "name": "stdout",
     "output_type": "stream",
     "text": [
      "Mean Squared Error: 217510676805908234240.00\n",
      "R-squared: -443409239635362381824.00\n"
     ]
    }
   ],
   "source": [
    "# Calculate Mean Squared Error\n",
    "mse = mean_squared_error(y_test, y_pred)\n",
    "print(f'Mean Squared Error: {mse:.2f}')\n",
    "\n",
    "# Calculate R-squared (Coefficient of Determination)\n",
    "r2 = r2_score(y_test, y_pred)\n",
    "print(f'R-squared: {r2:.2f}')"
   ]
  }
 ],
 "metadata": {
  "kernelspec": {
   "display_name": "Python 3",
   "language": "python",
   "name": "python3"
  },
  "language_info": {
   "codemirror_mode": {
    "name": "ipython",
    "version": 3
   },
   "file_extension": ".py",
   "mimetype": "text/x-python",
   "name": "python",
   "nbconvert_exporter": "python",
   "pygments_lexer": "ipython3",
   "version": "3.10.5"
  }
 },
 "nbformat": 4,
 "nbformat_minor": 2
}
